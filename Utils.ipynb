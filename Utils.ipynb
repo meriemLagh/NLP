{
 "cells": [
  {
   "cell_type": "code",
   "execution_count": 10,
   "id": "fbd23520",
   "metadata": {},
   "outputs": [],
   "source": [
    "import nltk\n",
    "from nltk.corpus import twitter_samples    # sample Twitter dataset from NLTK\n",
    "import matplotlib.pyplot as plt            # library for visualization\n",
    "import re                                  # library for regular expression operations\n",
    "import string                              # for string operations\n",
    "from nltk.corpus import stopwords          # module for stop words that come with NLTK\n",
    "from nltk.stem import PorterStemmer        # module for stemming\n",
    "from nltk.tokenize import TweetTokenizer   # module for tokenizing strings"
   ]
  },
  {
   "cell_type": "code",
   "execution_count": 11,
   "id": "2ea78f96",
   "metadata": {},
   "outputs": [],
   "source": [
    "#Creating a function that process a tweet\n",
    "def processing_tweet(tweet):\n",
    "    print('Tweet before the preprocessing: ', tweet)\n",
    "\n",
    "    #In this step we have to remove the characters that do not add any inforrmation to our tweet\n",
    "    tweet = re.sub(r'@\\w+', '', tweet)                # remove mentions\n",
    "    tweet = re.sub(r'https?://\\S+', '', tweet)        # remove URLs\n",
    "    tweet = re.sub(r'#', '', tweet)                   # remove hashtag symbol\n",
    "    tweet = re.sub(r'[^\\w\\s]', '', tweet)             # remove punctuation\n",
    "    tweet = re.sub(r'\\d+', '', tweet)                 # remove numbers\n",
    "    tweet = re.sub(r'\\s+', ' ', tweet).strip()        # remove extra spaces\n",
    "    print('Tweet after the cleaning: ', tweet)\n",
    "\n",
    "    #Tokenization means to split the string into a vector with the words that the string contains\n",
    "    tokenizer = TweetTokenizer(preserve_case=False, strip_handles=True, reduce_len=True)\n",
    "    tweet = tokenizer.tokenize(tweet)\n",
    "    print('Tweet after Tokenization: ', tweet)\n",
    "\n",
    "    #Importiong the english stop words, and punctuations\n",
    "    stopwords_english = stopwords.words('english')\n",
    "    punctuations = string.punctuation\n",
    "    print('Stop words are: ', stopwords_english)\n",
    "    print('Punctuations are: ', punctuations)\n",
    "\n",
    "    #Removing the stop words and the punctuations from the tweet because they don't add any information to it\n",
    "    tweet = [word for word in tweet if word not in stopwords_english and word not in punctuations]\n",
    "    print('Tweet after deleting the stop words and the punctuations: ', tweet)\n",
    "\n",
    "    #Example of Stemming (dancing - dancer => danc), it helps to avoid the repitition on the vector \n",
    "    # because dancing and dancer gonna be treated as a two diffrente word\n",
    "    stemmer = PorterStemmer()\n",
    "    final_tweet = [stemmer.stem(word) for word in tweet]\n",
    "    print('The final result is: ', final_tweet)\n",
    "\n",
    "    return final_tweet"
   ]
  },
  {
   "cell_type": "code",
   "execution_count": 12,
   "id": "2271d7c9",
   "metadata": {},
   "outputs": [
    {
     "name": "stderr",
     "output_type": "stream",
     "text": [
      "[nltk_data] Downloading package twitter_samples to\n",
      "[nltk_data]     C:\\Users\\merie\\AppData\\Roaming\\nltk_data...\n",
      "[nltk_data]   Package twitter_samples is already up-to-date!\n"
     ]
    },
    {
     "data": {
      "text/plain": [
       "True"
      ]
     },
     "execution_count": 12,
     "metadata": {},
     "output_type": "execute_result"
    }
   ],
   "source": [
    "#Downloading tweets that are in nltk library\n",
    "nltk.download('twitter_samples')"
   ]
  },
  {
   "cell_type": "code",
   "execution_count": 13,
   "id": "46281b12",
   "metadata": {},
   "outputs": [],
   "source": [
    "# select the set of positive and negative tweets\n",
    "all_positive_tweets = twitter_samples.strings('positive_tweets.json')\n",
    "all_negative_tweets = twitter_samples.strings('negative_tweets.json')"
   ]
  },
  {
   "cell_type": "code",
   "execution_count": 14,
   "id": "c47ec693",
   "metadata": {},
   "outputs": [
    {
     "name": "stdout",
     "output_type": "stream",
     "text": [
      "\u001b[92m 5000\n",
      "\u001b[91m 5000\n",
      "\u001b[92m Example:  #FollowFriday @France_Inte @PKuchly57 @Milipol_Paris for being top engaged members in my community this week :)\n",
      "\u001b[91m Example:  hopeless for tmr :(\n"
     ]
    }
   ],
   "source": [
    "#Printing the size of each category\n",
    "print('\\033[92m',len(all_positive_tweets))\n",
    "print('\\033[91m',len(all_negative_tweets))\n",
    "\n",
    "#Printing example from each category\n",
    "print('\\033[92m Example: ',all_positive_tweets[0])\n",
    "print('\\033[91m Example: ',all_negative_tweets[0])"
   ]
  },
  {
   "cell_type": "code",
   "execution_count": 15,
   "id": "cc432d02",
   "metadata": {},
   "outputs": [
    {
     "data": {
      "text/plain": [
       "(-1.1, 1.1, -1.1, 1.1)"
      ]
     },
     "execution_count": 15,
     "metadata": {},
     "output_type": "execute_result"
    },
    {
     "data": {
      "image/png": "[encoded data removed]",
      "text/plain": [
       "<Figure size 640x480 with 1 Axes>"
      ]
     },
     "metadata": {},
     "output_type": "display_data"
    }
   ],
   "source": [
    "#Visualizing the categories\n",
    "plt.pie([len(all_negative_tweets),len(all_positive_tweets)], labels=['positive','negative'], startangle=90, autopct='%1.1f%%', shadow=True, colors=['green', 'red'])\n",
    "plt.axis('equal')"
   ]
  },
  {
   "cell_type": "code",
   "execution_count": 16,
   "id": "ccd6a99b",
   "metadata": {},
   "outputs": [
    {
     "name": "stdout",
     "output_type": "stream",
     "text": [
      "Tweet before the preprocessing:  #FollowFriday @France_Inte @PKuchly57 @Milipol_Paris for being top engaged members in my community this week :)\n",
      "Tweet after the cleaning:  FollowFriday for being top engaged members in my community this week\n",
      "Tweet after Tokenization:  ['followfriday', 'for', 'being', 'top', 'engaged', 'members', 'in', 'my', 'community', 'this', 'week']\n",
      "Stop words are:  ['a', 'about', 'above', 'after', 'again', 'against', 'ain', 'all', 'am', 'an', 'and', 'any', 'are', 'aren', \"aren't\", 'as', 'at', 'be', 'because', 'been', 'before', 'being', 'below', 'between', 'both', 'but', 'by', 'can', 'couldn', \"couldn't\", 'd', 'did', 'didn', \"didn't\", 'do', 'does', 'doesn', \"doesn't\", 'doing', 'don', \"don't\", 'down', 'during', 'each', 'few', 'for', 'from', 'further', 'had', 'hadn', \"hadn't\", 'has', 'hasn', \"hasn't\", 'have', 'haven', \"haven't\", 'having', 'he', \"he'd\", \"he'll\", 'her', 'here', 'hers', 'herself', \"he's\", 'him', 'himself', 'his', 'how', 'i', \"i'd\", 'if', \"i'll\", \"i'm\", 'in', 'into', 'is', 'isn', \"isn't\", 'it', \"it'd\", \"it'll\", \"it's\", 'its', 'itself', \"i've\", 'just', 'll', 'm', 'ma', 'me', 'mightn', \"mightn't\", 'more', 'most', 'mustn', \"mustn't\", 'my', 'myself', 'needn', \"needn't\", 'no', 'nor', 'not', 'now', 'o', 'of', 'off', 'on', 'once', 'only', 'or', 'other', 'our', 'ours', 'ourselves', 'out', 'over', 'own', 're', 's', 'same', 'shan', \"shan't\", 'she', \"she'd\", \"she'll\", \"she's\", 'should', 'shouldn', \"shouldn't\", \"should've\", 'so', 'some', 'such', 't', 'than', 'that', \"that'll\", 'the', 'their', 'theirs', 'them', 'themselves', 'then', 'there', 'these', 'they', \"they'd\", \"they'll\", \"they're\", \"they've\", 'this', 'those', 'through', 'to', 'too', 'under', 'until', 'up', 've', 'very', 'was', 'wasn', \"wasn't\", 'we', \"we'd\", \"we'll\", \"we're\", 'were', 'weren', \"weren't\", \"we've\", 'what', 'when', 'where', 'which', 'while', 'who', 'whom', 'why', 'will', 'with', 'won', \"won't\", 'wouldn', \"wouldn't\", 'y', 'you', \"you'd\", \"you'll\", 'your', \"you're\", 'yours', 'yourself', 'yourselves', \"you've\"]\n",
      "Punctuations are:  !\"#$%&'()*+,-./:;<=>?@[\\]^_`{|}~\n",
      "Tweet after deleting the stop words and the punctuations:  ['followfriday', 'top', 'engaged', 'members', 'community', 'week']\n",
      "The final result is:  ['followfriday', 'top', 'engag', 'member', 'commun', 'week']\n"
     ]
    }
   ],
   "source": [
    "#Applying the processing on a tweet\n",
    "final_tweet = processing_tweet(all_positive_tweets[0])"
   ]
  }
 ],
 "metadata": {
  "kernelspec": {
   "display_name": "Python 3",
   "language": "python",
   "name": "python3"
  },
  "language_info": {
   "codemirror_mode": {
    "name": "ipython",
    "version": 3
   },
   "file_extension": ".py",
   "mimetype": "text/x-python",
   "name": "python",
   "nbconvert_exporter": "python",
   "pygments_lexer": "ipython3",
   "version": "3.11.4"
  }
 },
 "nbformat": 4,
 "nbformat_minor": 5
}
